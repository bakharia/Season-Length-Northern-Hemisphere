{
 "metadata": {
  "orig_nbformat": 2,
  "kernelspec": {
   "name": "python3",
   "display_name": "Python 3",
   "language": "python"
  }
 },
 "nbformat": 4,
 "nbformat_minor": 2,
 "cells": [
  {
   "source": [
    "## Plain Language Summary\n",
    "\n",
    "A series of phenomena such as early flowering of plants and\n",
    "early migratory birds are suggesting that the traditional four seasons may have changed. We focus on how\n",
    "the four seasons changed during 1952–2011 and will change by the end of this century in the warming\n",
    "Northern Hemisphere midlatitudes. We find that lengths and start dates of the four seasons have changed,\n",
    "and the changes will be amplified in the future. Over the period of 1952–2011, <i><u>the length of summer\n",
    "increased from 78 to 95 days and that of spring, autumn and winter decreased from 124 to 115, 87 to 82,\n",
    "and 76 to 73 days, respectively. In addition, summer is projected to last nearly half a year, but winter less\n",
    "than 2 months by 2100</u></i>. Such changes can trigger a chain of reactions in agriculture, policy-making for\n",
    "agricultural management and disaster prevention requires adjustment accordingly. The seasonal-related\n",
    "topics involving ecology, the ocean and the atmosphere also need to be revisited."
   ],
   "cell_type": "markdown",
   "metadata": {}
  },
  {
   "source": [
    "#### Here, we consider how the four seasons changed during 1952–2011 and will change by the end of this century in the warming Northern Hemisphere midlatitudes (30–60°N), where the division of the four seasons based on temperature is readily available."
   ],
   "cell_type": "markdown",
   "metadata": {}
  },
  {
   "cell_type": "code",
   "execution_count": 387,
   "metadata": {},
   "outputs": [],
   "source": [
    "import pandas as pd\n",
    "import numpy as np\n",
    "import matplotlib.pyplot as plt\n",
    "import seaborn as sns\n",
    "import netCDF4 as nc"
   ]
  },
  {
   "cell_type": "code",
   "execution_count": 388,
   "metadata": {},
   "outputs": [
    {
     "output_type": "execute_result",
     "data": {
      "text/plain": [
       "<class 'netCDF4._netCDF4.Dataset'>\n",
       "root group (NETCDF3_CLASSIC data model, file format NETCDF3):\n",
       "    dimensions(sizes): time(1461), longitude(96), latitude(73)\n",
       "    variables(dimensions): float32 longitude(longitude), float32 latitude(latitude), float32 time(time), float32 tmax(time, latitude, longitude), float32 tmin(time, latitude, longitude)\n",
       "    groups: "
      ]
     },
     "metadata": {},
     "execution_count": 388
    }
   ],
   "source": [
    "ds = nc.Dataset(\"D:\\\\Earth.Org\\\\4seasons\\\\data\\\\HadGHCND_TXTN_acts_1950-2014_15102015\\\\HadGHCND_TXTN_acts_2011-2014_15102015.nc\")\n",
    "ds"
   ]
  },
  {
   "cell_type": "code",
   "execution_count": 389,
   "metadata": {},
   "outputs": [
    {
     "output_type": "execute_result",
     "data": {
      "text/plain": [
       "(<class 'netCDF4._netCDF4.Variable'>\n",
       " float32 tmax(time, latitude, longitude)\n",
       "     long_name: Daily Actual Maximum (TMAX) Surface (2m) Air Temperature\n",
       "     units: degrees C\n",
       "     missing_value: nan\n",
       " unlimited dimensions: \n",
       " current shape = (1461, 73, 96)\n",
       " filling on, default _FillValue of 9.969209968386869e+36 used,\n",
       " <class 'netCDF4._netCDF4.Variable'>\n",
       " float32 tmin(time, latitude, longitude)\n",
       "     long_name: Daily Actual Minimum (TMIN) Surface (2m) Air Temperature\n",
       "     units: degrees C\n",
       "     missing_value: nan\n",
       " unlimited dimensions: \n",
       " current shape = (1461, 73, 96)\n",
       " filling on, default _FillValue of 9.969209968386869e+36 used)"
      ]
     },
     "metadata": {},
     "execution_count": 389
    }
   ],
   "source": [
    "ds['tmax'],ds['tmin']"
   ]
  },
  {
   "cell_type": "code",
   "execution_count": 390,
   "metadata": {},
   "outputs": [
    {
     "output_type": "execute_result",
     "data": {
      "text/plain": [
       "1461"
      ]
     },
     "metadata": {},
     "execution_count": 390
    }
   ],
   "source": [
    "# ds.variables['tmax'].set_auto_mask(False)\n",
    "# ds.variables['tmin'].set_auto_mask(False)\n",
    "ds.variables['time'].set_auto_mask(False)\n",
    "len(ds.variables['time'][:])"
   ]
  },
  {
   "cell_type": "code",
   "execution_count": 391,
   "metadata": {},
   "outputs": [],
   "source": [
    "for k in ds.variables:\n",
    "    ds[k].set_auto_mask(False)"
   ]
  },
  {
   "cell_type": "code",
   "execution_count": 6,
   "metadata": {},
   "outputs": [
    {
     "output_type": "execute_result",
     "data": {
      "text/plain": [
       "array([60. , 57.5, 55. , 52.5, 50. , 47.5, 45. , 42.5, 40. ],\n",
       "      dtype=float32)"
      ]
     },
     "metadata": {},
     "execution_count": 6
    }
   ],
   "source": []
  },
  {
   "cell_type": "code",
   "execution_count": 392,
   "metadata": {},
   "outputs": [
    {
     "output_type": "execute_result",
     "data": {
      "text/plain": [
       "96"
      ]
     },
     "metadata": {},
     "execution_count": 392
    }
   ],
   "source": [
    "len(ds['longitude'][:])"
   ]
  },
  {
   "cell_type": "code",
   "execution_count": 393,
   "metadata": {},
   "outputs": [
    {
     "output_type": "execute_result",
     "data": {
      "text/plain": [
       "array([  0.  ,   3.75,   7.5 ,  11.25,  15.  ,  18.75,  22.5 ,  26.25,\n",
       "        30.  ,  33.75,  37.5 ,  41.25,  45.  ,  48.75,  52.5 ,  56.25,\n",
       "        60.  ,  63.75,  67.5 ,  71.25,  75.  ,  78.75,  82.5 ,  86.25,\n",
       "        90.  ,  93.75,  97.5 , 101.25, 105.  , 108.75, 112.5 , 116.25,\n",
       "       120.  , 123.75, 127.5 , 131.25, 135.  , 138.75, 142.5 , 146.25,\n",
       "       150.  , 153.75, 157.5 , 161.25, 165.  , 168.75, 172.5 , 176.25,\n",
       "       180.  , 183.75, 187.5 , 191.25, 195.  , 198.75, 202.5 , 206.25,\n",
       "       210.  , 213.75, 217.5 , 221.25, 225.  , 228.75, 232.5 , 236.25,\n",
       "       240.  , 243.75, 247.5 , 251.25, 255.  , 258.75, 262.5 , 266.25,\n",
       "       270.  , 273.75, 277.5 , 281.25, 285.  , 288.75, 292.5 , 296.25,\n",
       "       300.  , 303.75, 307.5 , 311.25, 315.  , 318.75, 322.5 , 326.25,\n",
       "       330.  , 333.75, 337.5 , 341.25, 345.  , 348.75, 352.5 , 356.25],\n",
       "      dtype=float32)"
      ]
     },
     "metadata": {},
     "execution_count": 393
    }
   ],
   "source": [
    "ds['longitude'][:]"
   ]
  },
  {
   "cell_type": "code",
   "execution_count": 394,
   "metadata": {},
   "outputs": [
    {
     "output_type": "execute_result",
     "data": {
      "text/plain": [
       "1461"
      ]
     },
     "metadata": {},
     "execution_count": 394
    }
   ],
   "source": [
    "time = list(pd.date_range('2011-01-01', '2014-12-31').strftime('%Y-%m-%d'))\n",
    "len(time)"
   ]
  },
  {
   "cell_type": "code",
   "execution_count": 395,
   "metadata": {},
   "outputs": [],
   "source": [
    "#ds['tmax'][1,:,:]"
   ]
  },
  {
   "cell_type": "code",
   "execution_count": 396,
   "metadata": {},
   "outputs": [],
   "source": [
    "#(ds['tmin'][4017,12:25,1] +  ds['tmax'][4017,12:25,1])/2"
   ]
  },
  {
   "cell_type": "code",
   "execution_count": 397,
   "metadata": {},
   "outputs": [
    {
     "output_type": "execute_result",
     "data": {
      "text/plain": [
       "          lat     lon\n",
       "0        60.0    0.00\n",
       "1        60.0    3.75\n",
       "2        60.0    7.50\n",
       "3        60.0   11.25\n",
       "4        60.0   15.00\n",
       "...       ...     ...\n",
       "1823323  30.0  341.25\n",
       "1823324  30.0  345.00\n",
       "1823325  30.0  348.75\n",
       "1823326  30.0  352.50\n",
       "1823327  30.0  356.25\n",
       "\n",
       "[1823328 rows x 2 columns]"
      ],
      "text/html": "<div>\n<style scoped>\n    .dataframe tbody tr th:only-of-type {\n        vertical-align: middle;\n    }\n\n    .dataframe tbody tr th {\n        vertical-align: top;\n    }\n\n    .dataframe thead th {\n        text-align: right;\n    }\n</style>\n<table border=\"1\" class=\"dataframe\">\n  <thead>\n    <tr style=\"text-align: right;\">\n      <th></th>\n      <th>lat</th>\n      <th>lon</th>\n    </tr>\n  </thead>\n  <tbody>\n    <tr>\n      <th>0</th>\n      <td>60.0</td>\n      <td>0.00</td>\n    </tr>\n    <tr>\n      <th>1</th>\n      <td>60.0</td>\n      <td>3.75</td>\n    </tr>\n    <tr>\n      <th>2</th>\n      <td>60.0</td>\n      <td>7.50</td>\n    </tr>\n    <tr>\n      <th>3</th>\n      <td>60.0</td>\n      <td>11.25</td>\n    </tr>\n    <tr>\n      <th>4</th>\n      <td>60.0</td>\n      <td>15.00</td>\n    </tr>\n    <tr>\n      <th>...</th>\n      <td>...</td>\n      <td>...</td>\n    </tr>\n    <tr>\n      <th>1823323</th>\n      <td>30.0</td>\n      <td>341.25</td>\n    </tr>\n    <tr>\n      <th>1823324</th>\n      <td>30.0</td>\n      <td>345.00</td>\n    </tr>\n    <tr>\n      <th>1823325</th>\n      <td>30.0</td>\n      <td>348.75</td>\n    </tr>\n    <tr>\n      <th>1823326</th>\n      <td>30.0</td>\n      <td>352.50</td>\n    </tr>\n    <tr>\n      <th>1823327</th>\n      <td>30.0</td>\n      <td>356.25</td>\n    </tr>\n  </tbody>\n</table>\n<p>1823328 rows × 2 columns</p>\n</div>"
     },
     "metadata": {},
     "execution_count": 397
    }
   ],
   "source": [
    "lat = []\n",
    "lon = []\n",
    "file = pd.DataFrame()\n",
    "for t in range(len(ds['time'][:])):\n",
    "    for x in ds['latitude'][12:25]:\n",
    "        for y in ds['longitude'][:]:\n",
    "            lat.append(x)\n",
    "            lon.append(y)        \n",
    "file['lat'] = lat\n",
    "file['lon'] = lon\n",
    "file"
   ]
  },
  {
   "cell_type": "code",
   "execution_count": 398,
   "metadata": {},
   "outputs": [
    {
     "output_type": "execute_result",
     "data": {
      "text/plain": [
       "1824789"
      ]
     },
     "metadata": {},
     "execution_count": 398
    }
   ],
   "source": [
    "for i in range(len(file['lat'])):\n",
    "    time.append(time)\n",
    "len(time)"
   ]
  },
  {
   "cell_type": "code",
   "execution_count": 399,
   "metadata": {},
   "outputs": [
    {
     "output_type": "execute_result",
     "data": {
      "text/plain": [
       "<class 'netCDF4._netCDF4.Variable'>\n",
       "float32 tmax(time, latitude, longitude)\n",
       "    long_name: Daily Actual Maximum (TMAX) Surface (2m) Air Temperature\n",
       "    units: degrees C\n",
       "    missing_value: nan\n",
       "unlimited dimensions: \n",
       "current shape = (1461, 73, 96)\n",
       "filling on, default _FillValue of 9.969209968386869e+36 used"
      ]
     },
     "metadata": {},
     "execution_count": 399
    }
   ],
   "source": [
    "ds['tmax']"
   ]
  },
  {
   "cell_type": "code",
   "execution_count": 400,
   "metadata": {},
   "outputs": [],
   "source": [
    "li = []\n",
    "for i in range(len(ds['time'][:])):\n",
    "    for j in range(96):\n",
    "        li.extend(list((ds['tmin'][i,12:25,j] +  ds['tmax'][i,12:25,j])/2))"
   ]
  },
  {
   "cell_type": "code",
   "execution_count": 401,
   "metadata": {},
   "outputs": [
    {
     "output_type": "execute_result",
     "data": {
      "text/plain": [
       "          lat     lon  tavg\n",
       "0        60.0    0.00   NaN\n",
       "1        60.0    3.75   NaN\n",
       "2        60.0    7.50   NaN\n",
       "3        60.0   11.25  3.10\n",
       "4        60.0   15.00  3.35\n",
       "...       ...     ...   ...\n",
       "1823323  30.0  341.25   NaN\n",
       "1823324  30.0  345.00   NaN\n",
       "1823325  30.0  348.75   NaN\n",
       "1823326  30.0  352.50   NaN\n",
       "1823327  30.0  356.25   NaN\n",
       "\n",
       "[1823328 rows x 3 columns]"
      ],
      "text/html": "<div>\n<style scoped>\n    .dataframe tbody tr th:only-of-type {\n        vertical-align: middle;\n    }\n\n    .dataframe tbody tr th {\n        vertical-align: top;\n    }\n\n    .dataframe thead th {\n        text-align: right;\n    }\n</style>\n<table border=\"1\" class=\"dataframe\">\n  <thead>\n    <tr style=\"text-align: right;\">\n      <th></th>\n      <th>lat</th>\n      <th>lon</th>\n      <th>tavg</th>\n    </tr>\n  </thead>\n  <tbody>\n    <tr>\n      <th>0</th>\n      <td>60.0</td>\n      <td>0.00</td>\n      <td>NaN</td>\n    </tr>\n    <tr>\n      <th>1</th>\n      <td>60.0</td>\n      <td>3.75</td>\n      <td>NaN</td>\n    </tr>\n    <tr>\n      <th>2</th>\n      <td>60.0</td>\n      <td>7.50</td>\n      <td>NaN</td>\n    </tr>\n    <tr>\n      <th>3</th>\n      <td>60.0</td>\n      <td>11.25</td>\n      <td>3.10</td>\n    </tr>\n    <tr>\n      <th>4</th>\n      <td>60.0</td>\n      <td>15.00</td>\n      <td>3.35</td>\n    </tr>\n    <tr>\n      <th>...</th>\n      <td>...</td>\n      <td>...</td>\n      <td>...</td>\n    </tr>\n    <tr>\n      <th>1823323</th>\n      <td>30.0</td>\n      <td>341.25</td>\n      <td>NaN</td>\n    </tr>\n    <tr>\n      <th>1823324</th>\n      <td>30.0</td>\n      <td>345.00</td>\n      <td>NaN</td>\n    </tr>\n    <tr>\n      <th>1823325</th>\n      <td>30.0</td>\n      <td>348.75</td>\n      <td>NaN</td>\n    </tr>\n    <tr>\n      <th>1823326</th>\n      <td>30.0</td>\n      <td>352.50</td>\n      <td>NaN</td>\n    </tr>\n    <tr>\n      <th>1823327</th>\n      <td>30.0</td>\n      <td>356.25</td>\n      <td>NaN</td>\n    </tr>\n  </tbody>\n</table>\n<p>1823328 rows × 3 columns</p>\n</div>"
     },
     "metadata": {},
     "execution_count": 401
    }
   ],
   "source": [
    "file['tavg'] = li\n",
    "file"
   ]
  },
  {
   "cell_type": "code",
   "execution_count": 402,
   "metadata": {},
   "outputs": [],
   "source": [
    "file['lon'] = file['lon'].apply(lambda x: x - 360 if x > 180 else x)"
   ]
  },
  {
   "cell_type": "code",
   "execution_count": 403,
   "metadata": {},
   "outputs": [
    {
     "output_type": "execute_result",
     "data": {
      "text/plain": [
       "          lat    lon  tavg\n",
       "0        60.0   0.00   NaN\n",
       "1        60.0   3.75   NaN\n",
       "2        60.0   7.50   NaN\n",
       "3        60.0  11.25  3.10\n",
       "4        60.0  15.00  3.35\n",
       "...       ...    ...   ...\n",
       "1823323  30.0 -18.75   NaN\n",
       "1823324  30.0 -15.00   NaN\n",
       "1823325  30.0 -11.25   NaN\n",
       "1823326  30.0  -7.50   NaN\n",
       "1823327  30.0  -3.75   NaN\n",
       "\n",
       "[1823328 rows x 3 columns]"
      ],
      "text/html": "<div>\n<style scoped>\n    .dataframe tbody tr th:only-of-type {\n        vertical-align: middle;\n    }\n\n    .dataframe tbody tr th {\n        vertical-align: top;\n    }\n\n    .dataframe thead th {\n        text-align: right;\n    }\n</style>\n<table border=\"1\" class=\"dataframe\">\n  <thead>\n    <tr style=\"text-align: right;\">\n      <th></th>\n      <th>lat</th>\n      <th>lon</th>\n      <th>tavg</th>\n    </tr>\n  </thead>\n  <tbody>\n    <tr>\n      <th>0</th>\n      <td>60.0</td>\n      <td>0.00</td>\n      <td>NaN</td>\n    </tr>\n    <tr>\n      <th>1</th>\n      <td>60.0</td>\n      <td>3.75</td>\n      <td>NaN</td>\n    </tr>\n    <tr>\n      <th>2</th>\n      <td>60.0</td>\n      <td>7.50</td>\n      <td>NaN</td>\n    </tr>\n    <tr>\n      <th>3</th>\n      <td>60.0</td>\n      <td>11.25</td>\n      <td>3.10</td>\n    </tr>\n    <tr>\n      <th>4</th>\n      <td>60.0</td>\n      <td>15.00</td>\n      <td>3.35</td>\n    </tr>\n    <tr>\n      <th>...</th>\n      <td>...</td>\n      <td>...</td>\n      <td>...</td>\n    </tr>\n    <tr>\n      <th>1823323</th>\n      <td>30.0</td>\n      <td>-18.75</td>\n      <td>NaN</td>\n    </tr>\n    <tr>\n      <th>1823324</th>\n      <td>30.0</td>\n      <td>-15.00</td>\n      <td>NaN</td>\n    </tr>\n    <tr>\n      <th>1823325</th>\n      <td>30.0</td>\n      <td>-11.25</td>\n      <td>NaN</td>\n    </tr>\n    <tr>\n      <th>1823326</th>\n      <td>30.0</td>\n      <td>-7.50</td>\n      <td>NaN</td>\n    </tr>\n    <tr>\n      <th>1823327</th>\n      <td>30.0</td>\n      <td>-3.75</td>\n      <td>NaN</td>\n    </tr>\n  </tbody>\n</table>\n<p>1823328 rows × 3 columns</p>\n</div>"
     },
     "metadata": {},
     "execution_count": 403
    }
   ],
   "source": [
    "file.sort_values(by=['lat', 'lon']).sort_index()"
   ]
  },
  {
   "cell_type": "code",
   "execution_count": 404,
   "metadata": {},
   "outputs": [],
   "source": [
    "def checkLeap(x):\n",
    "    if (x % 4) == 0:\n",
    "        if (x % 100) == 0:\n",
    "            if (x % 400) == 0:\n",
    "                return True\n",
    "            else:\n",
    "                return False\n",
    "        else:\n",
    "            return True\n",
    "    else:\n",
    "        return False"
   ]
  },
  {
   "cell_type": "code",
   "execution_count": 405,
   "metadata": {},
   "outputs": [],
   "source": [
    "years = [x for x in range(2011,2015)]\n",
    "days = [366 if x == True else 365 for x in years]\n",
    "summ = 21\n",
    "wint = 12\n",
    "aut = 19\n",
    "spring = 15"
   ]
  },
  {
   "cell_type": "code",
   "execution_count": 406,
   "metadata": {},
   "outputs": [
    {
     "output_type": "execute_result",
     "data": {
      "text/plain": [
       "          lat    lon   tavg\n",
       "3        60.0  11.25   3.10\n",
       "4        60.0  15.00   3.35\n",
       "5        60.0  18.75   3.90\n",
       "6        60.0  22.50   7.45\n",
       "7        60.0  26.25   8.25\n",
       "...       ...    ...    ...\n",
       "1823137  32.5   3.75 -12.15\n",
       "1823305  30.0 -86.25   8.60\n",
       "1823316  30.0 -45.00   7.60\n",
       "1823317  30.0 -41.25   7.15\n",
       "1823318  30.0 -37.50   7.05\n",
       "\n",
       "[824522 rows x 3 columns]"
      ],
      "text/html": "<div>\n<style scoped>\n    .dataframe tbody tr th:only-of-type {\n        vertical-align: middle;\n    }\n\n    .dataframe tbody tr th {\n        vertical-align: top;\n    }\n\n    .dataframe thead th {\n        text-align: right;\n    }\n</style>\n<table border=\"1\" class=\"dataframe\">\n  <thead>\n    <tr style=\"text-align: right;\">\n      <th></th>\n      <th>lat</th>\n      <th>lon</th>\n      <th>tavg</th>\n    </tr>\n  </thead>\n  <tbody>\n    <tr>\n      <th>3</th>\n      <td>60.0</td>\n      <td>11.25</td>\n      <td>3.10</td>\n    </tr>\n    <tr>\n      <th>4</th>\n      <td>60.0</td>\n      <td>15.00</td>\n      <td>3.35</td>\n    </tr>\n    <tr>\n      <th>5</th>\n      <td>60.0</td>\n      <td>18.75</td>\n      <td>3.90</td>\n    </tr>\n    <tr>\n      <th>6</th>\n      <td>60.0</td>\n      <td>22.50</td>\n      <td>7.45</td>\n    </tr>\n    <tr>\n      <th>7</th>\n      <td>60.0</td>\n      <td>26.25</td>\n      <td>8.25</td>\n    </tr>\n    <tr>\n      <th>...</th>\n      <td>...</td>\n      <td>...</td>\n      <td>...</td>\n    </tr>\n    <tr>\n      <th>1823137</th>\n      <td>32.5</td>\n      <td>3.75</td>\n      <td>-12.15</td>\n    </tr>\n    <tr>\n      <th>1823305</th>\n      <td>30.0</td>\n      <td>-86.25</td>\n      <td>8.60</td>\n    </tr>\n    <tr>\n      <th>1823316</th>\n      <td>30.0</td>\n      <td>-45.00</td>\n      <td>7.60</td>\n    </tr>\n    <tr>\n      <th>1823317</th>\n      <td>30.0</td>\n      <td>-41.25</td>\n      <td>7.15</td>\n    </tr>\n    <tr>\n      <th>1823318</th>\n      <td>30.0</td>\n      <td>-37.50</td>\n      <td>7.05</td>\n    </tr>\n  </tbody>\n</table>\n<p>824522 rows × 3 columns</p>\n</div>"
     },
     "metadata": {},
     "execution_count": 406
    }
   ],
   "source": [
    "file = file.dropna()\n",
    "file"
   ]
  },
  {
   "cell_type": "code",
   "execution_count": 407,
   "metadata": {},
   "outputs": [],
   "source": [
    "# import geopandas as gpd\n",
    "# file['geometry'] = gpd.points_from_xy(file['lon'], file['lat'])\n",
    "# file"
   ]
  },
  {
   "cell_type": "code",
   "execution_count": 408,
   "metadata": {},
   "outputs": [],
   "source": [
    "file = file.reset_index()"
   ]
  },
  {
   "cell_type": "code",
   "execution_count": 409,
   "metadata": {},
   "outputs": [
    {
     "output_type": "execute_result",
     "data": {
      "text/plain": [
       "          index   lat    lon   tavg\n",
       "0             3  60.0  11.25   3.10\n",
       "1             4  60.0  15.00   3.35\n",
       "2             5  60.0  18.75   3.90\n",
       "3             6  60.0  22.50   7.45\n",
       "4             7  60.0  26.25   8.25\n",
       "...         ...   ...    ...    ...\n",
       "824517  1823137  32.5   3.75 -12.15\n",
       "824518  1823305  30.0 -86.25   8.60\n",
       "824519  1823316  30.0 -45.00   7.60\n",
       "824520  1823317  30.0 -41.25   7.15\n",
       "824521  1823318  30.0 -37.50   7.05\n",
       "\n",
       "[824522 rows x 4 columns]"
      ],
      "text/html": "<div>\n<style scoped>\n    .dataframe tbody tr th:only-of-type {\n        vertical-align: middle;\n    }\n\n    .dataframe tbody tr th {\n        vertical-align: top;\n    }\n\n    .dataframe thead th {\n        text-align: right;\n    }\n</style>\n<table border=\"1\" class=\"dataframe\">\n  <thead>\n    <tr style=\"text-align: right;\">\n      <th></th>\n      <th>index</th>\n      <th>lat</th>\n      <th>lon</th>\n      <th>tavg</th>\n    </tr>\n  </thead>\n  <tbody>\n    <tr>\n      <th>0</th>\n      <td>3</td>\n      <td>60.0</td>\n      <td>11.25</td>\n      <td>3.10</td>\n    </tr>\n    <tr>\n      <th>1</th>\n      <td>4</td>\n      <td>60.0</td>\n      <td>15.00</td>\n      <td>3.35</td>\n    </tr>\n    <tr>\n      <th>2</th>\n      <td>5</td>\n      <td>60.0</td>\n      <td>18.75</td>\n      <td>3.90</td>\n    </tr>\n    <tr>\n      <th>3</th>\n      <td>6</td>\n      <td>60.0</td>\n      <td>22.50</td>\n      <td>7.45</td>\n    </tr>\n    <tr>\n      <th>4</th>\n      <td>7</td>\n      <td>60.0</td>\n      <td>26.25</td>\n      <td>8.25</td>\n    </tr>\n    <tr>\n      <th>...</th>\n      <td>...</td>\n      <td>...</td>\n      <td>...</td>\n      <td>...</td>\n    </tr>\n    <tr>\n      <th>824517</th>\n      <td>1823137</td>\n      <td>32.5</td>\n      <td>3.75</td>\n      <td>-12.15</td>\n    </tr>\n    <tr>\n      <th>824518</th>\n      <td>1823305</td>\n      <td>30.0</td>\n      <td>-86.25</td>\n      <td>8.60</td>\n    </tr>\n    <tr>\n      <th>824519</th>\n      <td>1823316</td>\n      <td>30.0</td>\n      <td>-45.00</td>\n      <td>7.60</td>\n    </tr>\n    <tr>\n      <th>824520</th>\n      <td>1823317</td>\n      <td>30.0</td>\n      <td>-41.25</td>\n      <td>7.15</td>\n    </tr>\n    <tr>\n      <th>824521</th>\n      <td>1823318</td>\n      <td>30.0</td>\n      <td>-37.50</td>\n      <td>7.05</td>\n    </tr>\n  </tbody>\n</table>\n<p>824522 rows × 4 columns</p>\n</div>"
     },
     "metadata": {},
     "execution_count": 409
    }
   ],
   "source": [
    "file"
   ]
  },
  {
   "cell_type": "code",
   "execution_count": 410,
   "metadata": {},
   "outputs": [
    {
     "output_type": "execute_result",
     "data": {
      "text/plain": [
       "1152"
      ]
     },
     "metadata": {},
     "execution_count": 410
    }
   ],
   "source": [
    "len(set(file['lat']))*len(set(file['lon']))"
   ]
  },
  {
   "cell_type": "code",
   "execution_count": 411,
   "metadata": {},
   "outputs": [],
   "source": [
    "sum_li = []\n",
    "wint_li = []\n",
    "spring_li = []\n",
    "autumn_li = []\n",
    "years_li = []\n",
    "lat = []\n",
    "lon = []\n",
    "for x in list(set(file['lat'])):\n",
    "    for y in list(set(file['lon'])):\n",
    "        temp = file[(file['lat'] == x)&(file['lon'] == y)]['tavg']\n",
    "        start = 0\n",
    "        end = 0\n",
    "        for d in range(len(days)):\n",
    "            summer = 0\n",
    "            winter = 0\n",
    "            spring = 0\n",
    "            autumn = 0\n",
    "            end += days[d]\n",
    "            flag = 0\n",
    "            for t in temp[start:end:1]:\n",
    "                if (t < spring) and (flag == 0):\n",
    "                    winter += 1\n",
    "                elif (t >= spring) and (t < summ):\n",
    "                    spring += 1\n",
    "                elif (t >= summ):\n",
    "                    summer += 1\n",
    "                    flag = 1\n",
    "                elif (t <= aut) and (t > wint):\n",
    "                    autumn += 1\n",
    "                elif (t <= wint):\n",
    "                    winter += 1\n",
    "                    flag = 0\n",
    "            start = end\n",
    "            sum_li.append(summer)\n",
    "            wint_li.append(winter)\n",
    "            spring_li.append(spring)\n",
    "            autumn_li.append(autumn)\n",
    "            #location.append([x,y])\n",
    "            lat.append(x)\n",
    "            lon.append(y)\n",
    "            years_li.append(years[d])"
   ]
  },
  {
   "cell_type": "code",
   "execution_count": 412,
   "metadata": {},
   "outputs": [],
   "source": [
    "# store = pd.DataFrame()\n",
    "# store['Year'] = years_li\n",
    "# store['Geometry'] = gpd.points_from_xy(lon,lat)\n",
    "# store['Spring'] = spring_li\n",
    "# store['Winter'] = wint_li\n",
    "# store['Autumn'] = autumn_li\n",
    "# store['Summer'] = sum_li\n",
    "# store"
   ]
  },
  {
   "cell_type": "code",
   "execution_count": 413,
   "metadata": {},
   "outputs": [],
   "source": [
    "temp = pd.DataFrame()\n",
    "temp['Year'] = years_li\n",
    "temp['Geometry'] = gpd.points_from_xy(lon,lat)\n",
    "temp['Spring'] = spring_li\n",
    "temp['Winter'] = wint_li\n",
    "temp['Autumn'] = autumn_li\n",
    "temp['Summer'] = sum_li"
   ]
  },
  {
   "cell_type": "code",
   "execution_count": 414,
   "metadata": {},
   "outputs": [
    {
     "output_type": "execute_result",
     "data": {
      "text/plain": [
       "       Year                   Geometry  Spring  Winter  Autumn  Summer\n",
       "0      1950   POINT (0.00000 32.50000)      19     346       0       0\n",
       "1      1951   POINT (0.00000 32.50000)      21     344       0       0\n",
       "2      1952   POINT (0.00000 32.50000)      21     335       8       1\n",
       "3      1953   POINT (0.00000 32.50000)      20     345       0       0\n",
       "4      1954   POINT (0.00000 32.50000)      18     347       0       0\n",
       "...     ...                        ...     ...     ...     ...     ...\n",
       "73723  2014  POINT (-7.50000 30.00000)      21     124      40     151\n",
       "73724  2011  POINT (-3.75000 30.00000)      21      93      65     153\n",
       "73725  2012  POINT (-3.75000 30.00000)      21     141      34     155\n",
       "73726  2013  POINT (-3.75000 30.00000)      21     152      24     148\n",
       "73727  2014  POINT (-3.75000 30.00000)      21     116      34     163\n",
       "\n",
       "[73728 rows x 6 columns]"
      ],
      "text/html": "<div>\n<style scoped>\n    .dataframe tbody tr th:only-of-type {\n        vertical-align: middle;\n    }\n\n    .dataframe tbody tr th {\n        vertical-align: top;\n    }\n\n    .dataframe thead th {\n        text-align: right;\n    }\n</style>\n<table border=\"1\" class=\"dataframe\">\n  <thead>\n    <tr style=\"text-align: right;\">\n      <th></th>\n      <th>Year</th>\n      <th>Geometry</th>\n      <th>Spring</th>\n      <th>Winter</th>\n      <th>Autumn</th>\n      <th>Summer</th>\n    </tr>\n  </thead>\n  <tbody>\n    <tr>\n      <th>0</th>\n      <td>1950</td>\n      <td>POINT (0.00000 32.50000)</td>\n      <td>19</td>\n      <td>346</td>\n      <td>0</td>\n      <td>0</td>\n    </tr>\n    <tr>\n      <th>1</th>\n      <td>1951</td>\n      <td>POINT (0.00000 32.50000)</td>\n      <td>21</td>\n      <td>344</td>\n      <td>0</td>\n      <td>0</td>\n    </tr>\n    <tr>\n      <th>2</th>\n      <td>1952</td>\n      <td>POINT (0.00000 32.50000)</td>\n      <td>21</td>\n      <td>335</td>\n      <td>8</td>\n      <td>1</td>\n    </tr>\n    <tr>\n      <th>3</th>\n      <td>1953</td>\n      <td>POINT (0.00000 32.50000)</td>\n      <td>20</td>\n      <td>345</td>\n      <td>0</td>\n      <td>0</td>\n    </tr>\n    <tr>\n      <th>4</th>\n      <td>1954</td>\n      <td>POINT (0.00000 32.50000)</td>\n      <td>18</td>\n      <td>347</td>\n      <td>0</td>\n      <td>0</td>\n    </tr>\n    <tr>\n      <th>...</th>\n      <td>...</td>\n      <td>...</td>\n      <td>...</td>\n      <td>...</td>\n      <td>...</td>\n      <td>...</td>\n    </tr>\n    <tr>\n      <th>73723</th>\n      <td>2014</td>\n      <td>POINT (-7.50000 30.00000)</td>\n      <td>21</td>\n      <td>124</td>\n      <td>40</td>\n      <td>151</td>\n    </tr>\n    <tr>\n      <th>73724</th>\n      <td>2011</td>\n      <td>POINT (-3.75000 30.00000)</td>\n      <td>21</td>\n      <td>93</td>\n      <td>65</td>\n      <td>153</td>\n    </tr>\n    <tr>\n      <th>73725</th>\n      <td>2012</td>\n      <td>POINT (-3.75000 30.00000)</td>\n      <td>21</td>\n      <td>141</td>\n      <td>34</td>\n      <td>155</td>\n    </tr>\n    <tr>\n      <th>73726</th>\n      <td>2013</td>\n      <td>POINT (-3.75000 30.00000)</td>\n      <td>21</td>\n      <td>152</td>\n      <td>24</td>\n      <td>148</td>\n    </tr>\n    <tr>\n      <th>73727</th>\n      <td>2014</td>\n      <td>POINT (-3.75000 30.00000)</td>\n      <td>21</td>\n      <td>116</td>\n      <td>34</td>\n      <td>163</td>\n    </tr>\n  </tbody>\n</table>\n<p>73728 rows × 6 columns</p>\n</div>"
     },
     "metadata": {},
     "execution_count": 414
    }
   ],
   "source": [
    "store = pd.concat([store,temp],ignore_index = True)\n",
    "store"
   ]
  },
  {
   "cell_type": "code",
   "execution_count": 415,
   "metadata": {},
   "outputs": [],
   "source": [
    "store.to_csv('D:\\\\Earth.Org\\\\4seasons\\\\season_len.csv')"
   ]
  }
 ]
}