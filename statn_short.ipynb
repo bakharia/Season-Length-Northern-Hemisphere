{
 "metadata": {
  "orig_nbformat": 2,
  "kernelspec": {
   "name": "python3",
   "display_name": "Python 3",
   "language": "python"
  }
 },
 "nbformat": 4,
 "nbformat_minor": 2,
 "cells": [
  {
   "cell_type": "code",
   "execution_count": 2,
   "metadata": {},
   "outputs": [],
   "source": [
    "import pandas as pd\n",
    "import numpy as np"
   ]
  },
  {
   "cell_type": "code",
   "execution_count": 39,
   "metadata": {},
   "outputs": [
    {
     "output_type": "execute_result",
     "data": {
      "text/plain": [
       "            Year          Geometry  Spring  Winter  Autumn  Summer\n",
       "Unnamed: 0                                                        \n",
       "0           1950    POINT (0 32.5)      19     346       0       0\n",
       "1           1951    POINT (0 32.5)      21     344       0       0\n",
       "2           1952    POINT (0 32.5)      21     335       8       1\n",
       "3           1953    POINT (0 32.5)      20     345       0       0\n",
       "4           1954    POINT (0 32.5)      18     347       0       0\n",
       "...          ...               ...     ...     ...     ...     ...\n",
       "73723       2014   POINT (-7.5 30)      21     124      40     151\n",
       "73724       2011  POINT (-3.75 30)      21      93      65     153\n",
       "73725       2012  POINT (-3.75 30)      21     141      34     155\n",
       "73726       2013  POINT (-3.75 30)      21     152      24     148\n",
       "73727       2014  POINT (-3.75 30)      21     116      34     163\n",
       "\n",
       "[73728 rows x 6 columns]"
      ],
      "text/html": "<div>\n<style scoped>\n    .dataframe tbody tr th:only-of-type {\n        vertical-align: middle;\n    }\n\n    .dataframe tbody tr th {\n        vertical-align: top;\n    }\n\n    .dataframe thead th {\n        text-align: right;\n    }\n</style>\n<table border=\"1\" class=\"dataframe\">\n  <thead>\n    <tr style=\"text-align: right;\">\n      <th></th>\n      <th>Year</th>\n      <th>Geometry</th>\n      <th>Spring</th>\n      <th>Winter</th>\n      <th>Autumn</th>\n      <th>Summer</th>\n    </tr>\n    <tr>\n      <th>Unnamed: 0</th>\n      <th></th>\n      <th></th>\n      <th></th>\n      <th></th>\n      <th></th>\n      <th></th>\n    </tr>\n  </thead>\n  <tbody>\n    <tr>\n      <th>0</th>\n      <td>1950</td>\n      <td>POINT (0 32.5)</td>\n      <td>19</td>\n      <td>346</td>\n      <td>0</td>\n      <td>0</td>\n    </tr>\n    <tr>\n      <th>1</th>\n      <td>1951</td>\n      <td>POINT (0 32.5)</td>\n      <td>21</td>\n      <td>344</td>\n      <td>0</td>\n      <td>0</td>\n    </tr>\n    <tr>\n      <th>2</th>\n      <td>1952</td>\n      <td>POINT (0 32.5)</td>\n      <td>21</td>\n      <td>335</td>\n      <td>8</td>\n      <td>1</td>\n    </tr>\n    <tr>\n      <th>3</th>\n      <td>1953</td>\n      <td>POINT (0 32.5)</td>\n      <td>20</td>\n      <td>345</td>\n      <td>0</td>\n      <td>0</td>\n    </tr>\n    <tr>\n      <th>4</th>\n      <td>1954</td>\n      <td>POINT (0 32.5)</td>\n      <td>18</td>\n      <td>347</td>\n      <td>0</td>\n      <td>0</td>\n    </tr>\n    <tr>\n      <th>...</th>\n      <td>...</td>\n      <td>...</td>\n      <td>...</td>\n      <td>...</td>\n      <td>...</td>\n      <td>...</td>\n    </tr>\n    <tr>\n      <th>73723</th>\n      <td>2014</td>\n      <td>POINT (-7.5 30)</td>\n      <td>21</td>\n      <td>124</td>\n      <td>40</td>\n      <td>151</td>\n    </tr>\n    <tr>\n      <th>73724</th>\n      <td>2011</td>\n      <td>POINT (-3.75 30)</td>\n      <td>21</td>\n      <td>93</td>\n      <td>65</td>\n      <td>153</td>\n    </tr>\n    <tr>\n      <th>73725</th>\n      <td>2012</td>\n      <td>POINT (-3.75 30)</td>\n      <td>21</td>\n      <td>141</td>\n      <td>34</td>\n      <td>155</td>\n    </tr>\n    <tr>\n      <th>73726</th>\n      <td>2013</td>\n      <td>POINT (-3.75 30)</td>\n      <td>21</td>\n      <td>152</td>\n      <td>24</td>\n      <td>148</td>\n    </tr>\n    <tr>\n      <th>73727</th>\n      <td>2014</td>\n      <td>POINT (-3.75 30)</td>\n      <td>21</td>\n      <td>116</td>\n      <td>34</td>\n      <td>163</td>\n    </tr>\n  </tbody>\n</table>\n<p>73728 rows × 6 columns</p>\n</div>"
     },
     "metadata": {},
     "execution_count": 39
    }
   ],
   "source": [
    "file = pd.read_csv('D:\\\\Earth.Org\\\\4seasons\\\\season_len.csv')\n",
    "file = file.set_index('Unnamed: 0')\n",
    "file"
   ]
  },
  {
   "cell_type": "code",
   "execution_count": 40,
   "metadata": {},
   "outputs": [],
   "source": [
    "file = file.sort_values(by=['Geometry', 'Year'])"
   ]
  },
  {
   "cell_type": "code",
   "execution_count": 41,
   "metadata": {},
   "outputs": [
    {
     "output_type": "execute_result",
     "data": {
      "text/plain": [
       "                Geometry  Spring  Winter  Autumn  Summer\n",
       "Year                                                    \n",
       "1950  POINT (-101.25 30)       0       0       0       0\n",
       "1951  POINT (-101.25 30)       0       0       0       0\n",
       "1952  POINT (-101.25 30)       0       0       0       0\n",
       "1953  POINT (-101.25 30)       0       0       0       0\n",
       "1954  POINT (-101.25 30)       0       0       0       0\n",
       "...                  ...     ...     ...     ...     ...\n",
       "2010     POINT (97.5 60)      19     346       0       0\n",
       "2011     POINT (97.5 60)      20     345       0       0\n",
       "2012     POINT (97.5 60)      19     346       0       0\n",
       "2013     POINT (97.5 60)      20     345       0       0\n",
       "2014     POINT (97.5 60)      21     271      58       9\n",
       "\n",
       "[73728 rows x 5 columns]"
      ],
      "text/html": "<div>\n<style scoped>\n    .dataframe tbody tr th:only-of-type {\n        vertical-align: middle;\n    }\n\n    .dataframe tbody tr th {\n        vertical-align: top;\n    }\n\n    .dataframe thead th {\n        text-align: right;\n    }\n</style>\n<table border=\"1\" class=\"dataframe\">\n  <thead>\n    <tr style=\"text-align: right;\">\n      <th></th>\n      <th>Geometry</th>\n      <th>Spring</th>\n      <th>Winter</th>\n      <th>Autumn</th>\n      <th>Summer</th>\n    </tr>\n    <tr>\n      <th>Year</th>\n      <th></th>\n      <th></th>\n      <th></th>\n      <th></th>\n      <th></th>\n    </tr>\n  </thead>\n  <tbody>\n    <tr>\n      <th>1950</th>\n      <td>POINT (-101.25 30)</td>\n      <td>0</td>\n      <td>0</td>\n      <td>0</td>\n      <td>0</td>\n    </tr>\n    <tr>\n      <th>1951</th>\n      <td>POINT (-101.25 30)</td>\n      <td>0</td>\n      <td>0</td>\n      <td>0</td>\n      <td>0</td>\n    </tr>\n    <tr>\n      <th>1952</th>\n      <td>POINT (-101.25 30)</td>\n      <td>0</td>\n      <td>0</td>\n      <td>0</td>\n      <td>0</td>\n    </tr>\n    <tr>\n      <th>1953</th>\n      <td>POINT (-101.25 30)</td>\n      <td>0</td>\n      <td>0</td>\n      <td>0</td>\n      <td>0</td>\n    </tr>\n    <tr>\n      <th>1954</th>\n      <td>POINT (-101.25 30)</td>\n      <td>0</td>\n      <td>0</td>\n      <td>0</td>\n      <td>0</td>\n    </tr>\n    <tr>\n      <th>...</th>\n      <td>...</td>\n      <td>...</td>\n      <td>...</td>\n      <td>...</td>\n      <td>...</td>\n    </tr>\n    <tr>\n      <th>2010</th>\n      <td>POINT (97.5 60)</td>\n      <td>19</td>\n      <td>346</td>\n      <td>0</td>\n      <td>0</td>\n    </tr>\n    <tr>\n      <th>2011</th>\n      <td>POINT (97.5 60)</td>\n      <td>20</td>\n      <td>345</td>\n      <td>0</td>\n      <td>0</td>\n    </tr>\n    <tr>\n      <th>2012</th>\n      <td>POINT (97.5 60)</td>\n      <td>19</td>\n      <td>346</td>\n      <td>0</td>\n      <td>0</td>\n    </tr>\n    <tr>\n      <th>2013</th>\n      <td>POINT (97.5 60)</td>\n      <td>20</td>\n      <td>345</td>\n      <td>0</td>\n      <td>0</td>\n    </tr>\n    <tr>\n      <th>2014</th>\n      <td>POINT (97.5 60)</td>\n      <td>21</td>\n      <td>271</td>\n      <td>58</td>\n      <td>9</td>\n    </tr>\n  </tbody>\n</table>\n<p>73728 rows × 5 columns</p>\n</div>"
     },
     "metadata": {},
     "execution_count": 41
    }
   ],
   "source": [
    "file = file.set_index(['Year'])\n",
    "file"
   ]
  },
  {
   "cell_type": "code",
   "execution_count": 45,
   "metadata": {},
   "outputs": [],
   "source": [
    "li = []\n",
    "for x in file[file['Summer'] == 0]['Geometry']:\n",
    "    li.append(x)\n",
    "li = list(set(li))\n",
    "file[~file['Geometry'].isin(li)]\n",
    "usable_data = pd.DataFrame()\n",
    "usable_data = file[~file['Geometry'].isin(li)]\n",
    "usable_data.to_csv('D:\\\\Earth.Org\\\\4seasons\\\\season_len(filtered).csv')"
   ]
  },
  {
   "cell_type": "code",
   "execution_count": 47,
   "metadata": {},
   "outputs": [
    {
     "output_type": "execute_result",
     "data": {
      "text/plain": [
       "                Geometry  Spring  Winter  Autumn  Summer\n",
       "Year                                                    \n",
       "1987  POINT (-101.25 40)      21     227      49      46\n",
       "1988  POINT (-101.25 40)      21     251      34      42\n",
       "1989  POINT (-101.25 40)      21     224      70      26\n",
       "1990  POINT (-101.25 40)      21     242      35      48\n",
       "1991  POINT (-101.25 40)      21     251      39      37\n",
       "...                  ...     ...     ...     ...     ...\n",
       "1990   POINT (-11.25 30)      21     164      38     129\n",
       "1991   POINT (-11.25 30)      21     176      46     113\n",
       "1992   POINT (-11.25 30)      21     137      84      97\n",
       "1993   POINT (-11.25 30)      21     173      55      96\n",
       "1994   POINT (-11.25 30)      21     142      63     107\n",
       "\n",
       "[200 rows x 5 columns]"
      ],
      "text/html": "<div>\n<style scoped>\n    .dataframe tbody tr th:only-of-type {\n        vertical-align: middle;\n    }\n\n    .dataframe tbody tr th {\n        vertical-align: top;\n    }\n\n    .dataframe thead th {\n        text-align: right;\n    }\n</style>\n<table border=\"1\" class=\"dataframe\">\n  <thead>\n    <tr style=\"text-align: right;\">\n      <th></th>\n      <th>Geometry</th>\n      <th>Spring</th>\n      <th>Winter</th>\n      <th>Autumn</th>\n      <th>Summer</th>\n    </tr>\n    <tr>\n      <th>Year</th>\n      <th></th>\n      <th></th>\n      <th></th>\n      <th></th>\n      <th></th>\n    </tr>\n  </thead>\n  <tbody>\n    <tr>\n      <th>1987</th>\n      <td>POINT (-101.25 40)</td>\n      <td>21</td>\n      <td>227</td>\n      <td>49</td>\n      <td>46</td>\n    </tr>\n    <tr>\n      <th>1988</th>\n      <td>POINT (-101.25 40)</td>\n      <td>21</td>\n      <td>251</td>\n      <td>34</td>\n      <td>42</td>\n    </tr>\n    <tr>\n      <th>1989</th>\n      <td>POINT (-101.25 40)</td>\n      <td>21</td>\n      <td>224</td>\n      <td>70</td>\n      <td>26</td>\n    </tr>\n    <tr>\n      <th>1990</th>\n      <td>POINT (-101.25 40)</td>\n      <td>21</td>\n      <td>242</td>\n      <td>35</td>\n      <td>48</td>\n    </tr>\n    <tr>\n      <th>1991</th>\n      <td>POINT (-101.25 40)</td>\n      <td>21</td>\n      <td>251</td>\n      <td>39</td>\n      <td>37</td>\n    </tr>\n    <tr>\n      <th>...</th>\n      <td>...</td>\n      <td>...</td>\n      <td>...</td>\n      <td>...</td>\n      <td>...</td>\n    </tr>\n    <tr>\n      <th>1990</th>\n      <td>POINT (-11.25 30)</td>\n      <td>21</td>\n      <td>164</td>\n      <td>38</td>\n      <td>129</td>\n    </tr>\n    <tr>\n      <th>1991</th>\n      <td>POINT (-11.25 30)</td>\n      <td>21</td>\n      <td>176</td>\n      <td>46</td>\n      <td>113</td>\n    </tr>\n    <tr>\n      <th>1992</th>\n      <td>POINT (-11.25 30)</td>\n      <td>21</td>\n      <td>137</td>\n      <td>84</td>\n      <td>97</td>\n    </tr>\n    <tr>\n      <th>1993</th>\n      <td>POINT (-11.25 30)</td>\n      <td>21</td>\n      <td>173</td>\n      <td>55</td>\n      <td>96</td>\n    </tr>\n    <tr>\n      <th>1994</th>\n      <td>POINT (-11.25 30)</td>\n      <td>21</td>\n      <td>142</td>\n      <td>63</td>\n      <td>107</td>\n    </tr>\n  </tbody>\n</table>\n<p>200 rows × 5 columns</p>\n</div>"
     },
     "metadata": {},
     "execution_count": 47
    }
   ],
   "source": [
    "usable_data[100:300]"
   ]
  }
 ]
}