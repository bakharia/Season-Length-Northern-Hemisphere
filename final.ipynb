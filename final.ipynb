{
 "metadata": {
  "orig_nbformat": 2,
  "kernelspec": {
   "name": "python3",
   "display_name": "Python 3",
   "language": "python"
  }
 },
 "nbformat": 4,
 "nbformat_minor": 2,
 "cells": [
  {
   "source": [
    "## Plain Language Summary\n",
    "\n",
    "A series of phenomena such as early flowering of plants and\n",
    "early migratory birds are suggesting that the traditional four seasons may have changed. We focus on how\n",
    "the four seasons changed during 1952–2011 and will change by the end of this century in the warming\n",
    "Northern Hemisphere midlatitudes. We find that lengths and start dates of the four seasons have changed,\n",
    "and the changes will be amplified in the future. Over the period of 1952–2011, <i><u>the length of summer\n",
    "increased from 78 to 95 days and that of spring, autumn and winter decreased from 124 to 115, 87 to 82,\n",
    "and 76 to 73 days, respectively. In addition, summer is projected to last nearly half a year, but winter less\n",
    "than 2 months by 2100</u></i>. Such changes can trigger a chain of reactions in agriculture, policy-making for\n",
    "agricultural management and disaster prevention requires adjustment accordingly. The seasonal-related\n",
    "topics involving ecology, the ocean and the atmosphere also need to be revisited."
   ],
   "cell_type": "markdown",
   "metadata": {}
  },
  {
   "source": [
    "#### Here, we consider how the four seasons changed during 1952–2011 and will change by the end of this century in the warming Northern Hemisphere midlatitudes (30–60°N), where the division of the four seasons based on temperature is readily available."
   ],
   "cell_type": "markdown",
   "metadata": {}
  },
  {
   "cell_type": "code",
   "execution_count": 1,
   "metadata": {},
   "outputs": [],
   "source": [
    "import pandas as pd\n",
    "import numpy as np\n",
    "import matplotlib.pyplot as plt\n",
    "import seaborn as sns\n",
    "import netCDF4 as nc\n",
    "import geopandas as gpd"
   ]
  },
  {
   "cell_type": "code",
   "execution_count": 3,
   "metadata": {},
   "outputs": [],
   "source": [
    "summ = 21\n",
    "wint = 12\n",
    "aut = 19\n",
    "spring = 15"
   ]
  },
  {
   "cell_type": "code",
   "execution_count": 4,
   "metadata": {},
   "outputs": [],
   "source": [
    "def returnLen(file, y1,y2):\n",
    "    \n",
    "    def checkLeap(x):\n",
    "        if (x % 4) == 0:\n",
    "            if (x % 100) == 0:\n",
    "                if (x % 400) == 0:\n",
    "                    return True\n",
    "                else:\n",
    "                    return False\n",
    "            else:\n",
    "                return True\n",
    "        else:\n",
    "            return False\n",
    "    \n",
    "    years = [x for x in range(y1,y2)]\n",
    "    days = [366 if x == True else 365 for x in years]\n",
    "    \n",
    "    sum_li = []\n",
    "    wint_li = []\n",
    "    spring_li = []\n",
    "    autumn_li = []\n",
    "    years_li = []\n",
    "    location = []\n",
    "    for x in list(set(file['lat'])):\n",
    "        for y in list(set(file['lon'])):\n",
    "            temp = file[(file['lat'] == x)&(file['lon'] == y)]['tavg']\n",
    "            start = 0\n",
    "            end = 0\n",
    "            for d in range(len(days)):\n",
    "                summer = 0\n",
    "                winter = 0\n",
    "                spring = 0\n",
    "                autumn = 0\n",
    "                end += days[d]\n",
    "                flag = 0\n",
    "                for t in temp[start:end:1]:\n",
    "                    if (t < spring) and (flag == 0):\n",
    "                        winter += 1\n",
    "                    elif (t >= spring) and (t < summ):\n",
    "                        spring += 1\n",
    "                    elif (t >= summ):\n",
    "                        summer += 1\n",
    "                        flag = 1\n",
    "                    elif (t <= aut) and (t > wint):\n",
    "                        autumn += 1\n",
    "                    elif (t <= wint):\n",
    "                        winter += 1\n",
    "                        flag = 0\n",
    "                start = end\n",
    "                sum_li.append(summer)\n",
    "                wint_li.append(winter)\n",
    "                spring_li.append(spring)\n",
    "                autumn_li.append(autumn)\n",
    "                location.append([x,y])\n",
    "                years_li.append(years[d])\n",
    "    store = pd.DataFrame()\n",
    "    store['Year'] = years_li\n",
    "    store['Location'] = location\n",
    "    store['Spring'] = spring_li\n",
    "    store['Winter'] = wint_li\n",
    "    store['Autumn'] = autumn_li\n",
    "    store['Summer'] = sum_li\n",
    "    return store"
   ]
  },
  {
   "cell_type": "code",
   "execution_count": 7,
   "metadata": {},
   "outputs": [],
   "source": [
    "def preProcess(ds):\n",
    "    lat = []\n",
    "    lon = []\n",
    "    file = pd.DataFrame()\n",
    "    for t in range(4018):\n",
    "        for x in ds['latitude'][12:25]:\n",
    "            for y in ds['longitude'][:]:\n",
    "                lat.append(x)\n",
    "                lon.append(y)        \n",
    "    file['lat'] = lat\n",
    "    file['lon'] = lon\n",
    "    li = []\n",
    "    for i in range(4018):\n",
    "        for j in range(96):\n",
    "            li.extend(list((ds['tmin'][i,12:25,j] +  ds['tmax'][i,12:25,j])/2))\n",
    "    file['tavg'] = li\n",
    "    file['lon'] = file['lon'].apply(lambda x: x - 360 if x > 180 else x)\n",
    "    file = file.dropna()\n",
    "    file = file.reset_index(drop=True)\n",
    "    return file"
   ]
  },
  {
   "cell_type": "code",
   "execution_count": 8,
   "metadata": {},
   "outputs": [
    {
     "output_type": "error",
     "ename": "KeyboardInterrupt",
     "evalue": "",
     "traceback": [
      "\u001b[1;31m---------------------------------------------------------------------------\u001b[0m",
      "\u001b[1;31mKeyboardInterrupt\u001b[0m                         Traceback (most recent call last)",
      "\u001b[1;32m<ipython-input-8-a2e1fce54143>\u001b[0m in \u001b[0;36m<module>\u001b[1;34m\u001b[0m\n\u001b[0;32m      1\u001b[0m \u001b[0mds\u001b[0m \u001b[1;33m=\u001b[0m \u001b[0mnc\u001b[0m\u001b[1;33m.\u001b[0m\u001b[0mDataset\u001b[0m\u001b[1;33m(\u001b[0m\u001b[1;34m\"D:\\\\Earth.Org\\\\4seasons\\\\data\\\\HadGHCND_TXTN_acts_1950-2014_15102015\\\\HadGHCND_TXTN_acts_1950-1960_15102015.nc\"\u001b[0m\u001b[1;33m)\u001b[0m\u001b[1;33m\u001b[0m\u001b[1;33m\u001b[0m\u001b[0m\n\u001b[0;32m      2\u001b[0m \u001b[1;31m#temp = preProcess(ds)\u001b[0m\u001b[1;33m\u001b[0m\u001b[1;33m\u001b[0m\u001b[1;33m\u001b[0m\u001b[0m\n\u001b[1;32m----> 3\u001b[1;33m \u001b[0mstore\u001b[0m \u001b[1;33m=\u001b[0m \u001b[0mreturnLen\u001b[0m\u001b[1;33m(\u001b[0m\u001b[0mpreProcess\u001b[0m\u001b[1;33m(\u001b[0m\u001b[0mds\u001b[0m\u001b[1;33m)\u001b[0m\u001b[1;33m,\u001b[0m \u001b[1;36m1950\u001b[0m\u001b[1;33m,\u001b[0m \u001b[1;36m1960\u001b[0m\u001b[1;33m)\u001b[0m\u001b[1;33m\u001b[0m\u001b[1;33m\u001b[0m\u001b[0m\n\u001b[0m",
      "\u001b[1;32m<ipython-input-4-bf6d185a4ba3>\u001b[0m in \u001b[0;36mreturnLen\u001b[1;34m(file, y1, y2)\u001b[0m\n\u001b[0;32m     44\u001b[0m                     \u001b[1;32melif\u001b[0m \u001b[1;33m(\u001b[0m\u001b[0mt\u001b[0m \u001b[1;33m<=\u001b[0m \u001b[0maut\u001b[0m\u001b[1;33m)\u001b[0m \u001b[1;32mand\u001b[0m \u001b[1;33m(\u001b[0m\u001b[0mt\u001b[0m \u001b[1;33m>\u001b[0m \u001b[0mwint\u001b[0m\u001b[1;33m)\u001b[0m\u001b[1;33m:\u001b[0m\u001b[1;33m\u001b[0m\u001b[1;33m\u001b[0m\u001b[0m\n\u001b[0;32m     45\u001b[0m                         \u001b[0mautumn\u001b[0m \u001b[1;33m+=\u001b[0m \u001b[1;36m1\u001b[0m\u001b[1;33m\u001b[0m\u001b[1;33m\u001b[0m\u001b[0m\n\u001b[1;32m---> 46\u001b[1;33m                     \u001b[1;32melif\u001b[0m \u001b[1;33m(\u001b[0m\u001b[0mt\u001b[0m \u001b[1;33m<=\u001b[0m \u001b[0mwint\u001b[0m\u001b[1;33m)\u001b[0m\u001b[1;33m:\u001b[0m\u001b[1;33m\u001b[0m\u001b[1;33m\u001b[0m\u001b[0m\n\u001b[0m\u001b[0;32m     47\u001b[0m                         \u001b[0mwinter\u001b[0m \u001b[1;33m+=\u001b[0m \u001b[1;36m1\u001b[0m\u001b[1;33m\u001b[0m\u001b[1;33m\u001b[0m\u001b[0m\n\u001b[0;32m     48\u001b[0m                         \u001b[0mflag\u001b[0m \u001b[1;33m=\u001b[0m \u001b[1;36m0\u001b[0m\u001b[1;33m\u001b[0m\u001b[1;33m\u001b[0m\u001b[0m\n",
      "\u001b[1;32m~\\miniconda3\\envs\\DS\\lib\\site-packages\\numpy\\ma\\core.py\u001b[0m in \u001b[0;36m__array_wrap__\u001b[1;34m(self, obj, context)\u001b[0m\n\u001b[0;32m   6473\u001b[0m \u001b[1;33m\u001b[0m\u001b[0m\n\u001b[0;32m   6474\u001b[0m     \u001b[1;32mdef\u001b[0m \u001b[0m__array_wrap__\u001b[0m\u001b[1;33m(\u001b[0m\u001b[0mself\u001b[0m\u001b[1;33m,\u001b[0m \u001b[0mobj\u001b[0m\u001b[1;33m,\u001b[0m \u001b[0mcontext\u001b[0m\u001b[1;33m=\u001b[0m\u001b[1;32mNone\u001b[0m\u001b[1;33m)\u001b[0m\u001b[1;33m:\u001b[0m\u001b[1;33m\u001b[0m\u001b[1;33m\u001b[0m\u001b[0m\n\u001b[1;32m-> 6475\u001b[1;33m         \u001b[1;32mreturn\u001b[0m \u001b[0mself\u001b[0m\u001b[1;33m.\u001b[0m\u001b[0mview\u001b[0m\u001b[1;33m(\u001b[0m\u001b[0mMaskedArray\u001b[0m\u001b[1;33m)\u001b[0m\u001b[1;33m.\u001b[0m\u001b[0m__array_wrap__\u001b[0m\u001b[1;33m(\u001b[0m\u001b[0mobj\u001b[0m\u001b[1;33m,\u001b[0m \u001b[0mcontext\u001b[0m\u001b[1;33m)\u001b[0m\u001b[1;33m\u001b[0m\u001b[1;33m\u001b[0m\u001b[0m\n\u001b[0m\u001b[0;32m   6476\u001b[0m \u001b[1;33m\u001b[0m\u001b[0m\n\u001b[0;32m   6477\u001b[0m     \u001b[1;32mdef\u001b[0m \u001b[0m__str__\u001b[0m\u001b[1;33m(\u001b[0m\u001b[0mself\u001b[0m\u001b[1;33m)\u001b[0m\u001b[1;33m:\u001b[0m\u001b[1;33m\u001b[0m\u001b[1;33m\u001b[0m\u001b[0m\n",
      "\u001b[1;32m~\\miniconda3\\envs\\DS\\lib\\site-packages\\numpy\\ma\\core.py\u001b[0m in \u001b[0;36m__array_wrap__\u001b[1;34m(self, obj, context)\u001b[0m\n\u001b[0;32m   3076\u001b[0m             \u001b[0mresult\u001b[0m \u001b[1;33m=\u001b[0m \u001b[0mobj\u001b[0m\u001b[1;33m\u001b[0m\u001b[1;33m\u001b[0m\u001b[0m\n\u001b[0;32m   3077\u001b[0m         \u001b[1;32melse\u001b[0m\u001b[1;33m:\u001b[0m\u001b[1;33m\u001b[0m\u001b[1;33m\u001b[0m\u001b[0m\n\u001b[1;32m-> 3078\u001b[1;33m             \u001b[0mresult\u001b[0m \u001b[1;33m=\u001b[0m \u001b[0mobj\u001b[0m\u001b[1;33m.\u001b[0m\u001b[0mview\u001b[0m\u001b[1;33m(\u001b[0m\u001b[0mtype\u001b[0m\u001b[1;33m(\u001b[0m\u001b[0mself\u001b[0m\u001b[1;33m)\u001b[0m\u001b[1;33m)\u001b[0m\u001b[1;33m\u001b[0m\u001b[1;33m\u001b[0m\u001b[0m\n\u001b[0m\u001b[0;32m   3079\u001b[0m             \u001b[0mresult\u001b[0m\u001b[1;33m.\u001b[0m\u001b[0m_update_from\u001b[0m\u001b[1;33m(\u001b[0m\u001b[0mself\u001b[0m\u001b[1;33m)\u001b[0m\u001b[1;33m\u001b[0m\u001b[1;33m\u001b[0m\u001b[0m\n\u001b[0;32m   3080\u001b[0m \u001b[1;33m\u001b[0m\u001b[0m\n",
      "\u001b[1;32m~\\miniconda3\\envs\\DS\\lib\\site-packages\\numpy\\ma\\core.py\u001b[0m in \u001b[0;36mview\u001b[1;34m(self, dtype, type, fill_value)\u001b[0m\n\u001b[0;32m   3186\u001b[0m             \u001b[1;32mtry\u001b[0m\u001b[1;33m:\u001b[0m\u001b[1;33m\u001b[0m\u001b[1;33m\u001b[0m\u001b[0m\n\u001b[0;32m   3187\u001b[0m                 \u001b[1;32mif\u001b[0m \u001b[0missubclass\u001b[0m\u001b[1;33m(\u001b[0m\u001b[0mdtype\u001b[0m\u001b[1;33m,\u001b[0m \u001b[0mndarray\u001b[0m\u001b[1;33m)\u001b[0m\u001b[1;33m:\u001b[0m\u001b[1;33m\u001b[0m\u001b[1;33m\u001b[0m\u001b[0m\n\u001b[1;32m-> 3188\u001b[1;33m                     \u001b[0moutput\u001b[0m \u001b[1;33m=\u001b[0m \u001b[0mndarray\u001b[0m\u001b[1;33m.\u001b[0m\u001b[0mview\u001b[0m\u001b[1;33m(\u001b[0m\u001b[0mself\u001b[0m\u001b[1;33m,\u001b[0m \u001b[0mdtype\u001b[0m\u001b[1;33m)\u001b[0m\u001b[1;33m\u001b[0m\u001b[1;33m\u001b[0m\u001b[0m\n\u001b[0m\u001b[0;32m   3189\u001b[0m                     \u001b[0mdtype\u001b[0m \u001b[1;33m=\u001b[0m \u001b[1;32mNone\u001b[0m\u001b[1;33m\u001b[0m\u001b[1;33m\u001b[0m\u001b[0m\n\u001b[0;32m   3190\u001b[0m                 \u001b[1;32melse\u001b[0m\u001b[1;33m:\u001b[0m\u001b[1;33m\u001b[0m\u001b[1;33m\u001b[0m\u001b[0m\n",
      "\u001b[1;32m~\\miniconda3\\envs\\DS\\lib\\site-packages\\numpy\\ma\\core.py\u001b[0m in \u001b[0;36m__array_finalize__\u001b[1;34m(self, obj)\u001b[0m\n\u001b[0;32m   3023\u001b[0m             \u001b[1;31m# side-effecting 'obj' as well.\u001b[0m\u001b[1;33m\u001b[0m\u001b[1;33m\u001b[0m\u001b[1;33m\u001b[0m\u001b[0m\n\u001b[0;32m   3024\u001b[0m             if (_mask is not nomask and obj.__array_interface__[\"data\"][0]\n\u001b[1;32m-> 3025\u001b[1;33m                     != self.__array_interface__[\"data\"][0]):\n\u001b[0m\u001b[0;32m   3026\u001b[0m                 \u001b[1;31m# We should make a copy. But we could get here via astype,\u001b[0m\u001b[1;33m\u001b[0m\u001b[1;33m\u001b[0m\u001b[1;33m\u001b[0m\u001b[0m\n\u001b[0;32m   3027\u001b[0m                 \u001b[1;31m# in which case the mask might need a new dtype as well\u001b[0m\u001b[1;33m\u001b[0m\u001b[1;33m\u001b[0m\u001b[1;33m\u001b[0m\u001b[0m\n",
      "\u001b[1;31mKeyboardInterrupt\u001b[0m: "
     ]
    }
   ],
   "source": [
    "ds = nc.Dataset(\"D:\\\\Earth.Org\\\\4seasons\\\\data\\\\HadGHCND_TXTN_acts_1950-2014_15102015\\\\HadGHCND_TXTN_acts_1950-1960_15102015.nc\")\n",
    "#temp = preProcess(ds)\n",
    "store = returnLen(preProcess(ds), 1950, 1960)"
   ]
  },
  {
   "cell_type": "code",
   "execution_count": null,
   "metadata": {},
   "outputs": [],
   "source": [
    "years = [1949,1960, 1970, 1980,1990,2000,2010,2014]\n",
    "for i in range(len(years)-1):\n",
    "   ds = nc.Dataset(f\"D:\\\\Earth.Org\\\\4seasons\\\\data\\\\HadGHCND_TXTN_acts_1950-2014_15102015\\\\HadGHCND_TXTN_acts_{years[i]+1}-{years[i]}_15102015.nc\") "
   ]
  }
 ]
}